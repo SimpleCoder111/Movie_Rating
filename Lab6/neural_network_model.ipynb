{
 "cells": [
  {
   "cell_type": "code",
   "execution_count": 1,
   "id": "2f8d7360",
   "metadata": {},
   "outputs": [],
   "source": [
    "# import libraray\n",
    "import torch\n",
    "from torch import nn, optim\n",
    "from torch.utils.data import Dataset, DataLoader\n",
    "from torch.utils.data import random_split\n",
    "import pandas as pd\n",
    "import numpy as np"
   ]
  },
  {
   "cell_type": "code",
   "execution_count": 2,
   "id": "5ae28f43",
   "metadata": {},
   "outputs": [],
   "source": [
    "# Define custom Dataset\n",
    "class MyDataset(Dataset):\n",
    "    def __init__(self, X, y):\n",
    "        self.X = X\n",
    "        self.y = y\n",
    "        \n",
    "    def __getitem__(self, index):\n",
    "        features = self.X[index]\n",
    "        target = self.y[index]\n",
    "        return features, target\n",
    "\n",
    "    def __len__(self):\n",
    "        return len(self.X)"
   ]
  },
  {
   "cell_type": "code",
   "execution_count": 3,
   "id": "5a171ccb",
   "metadata": {},
   "outputs": [],
   "source": [
    "# Read Dataset\n",
    "df = pd.read_csv(\"./movie-rating-additional.csv\")\n",
    "df['Year'] = df['Year'].str.split('–').str[0]\n",
    "df['Year'] = pd.to_numeric(df['Year'], errors='coerce')\n",
    "\n",
    "X = df.iloc[:, 2:-1].values\n",
    "y = df.iloc[:, -1].values"
   ]
  },
  {
   "cell_type": "code",
   "execution_count": 4,
   "id": "e7aad5ac",
   "metadata": {},
   "outputs": [
    {
     "name": "stdout",
     "output_type": "stream",
     "text": [
      "[[1.9950000e+03 1.0000000e+00 1.0000000e+00 ... 9.4585000e+01\n",
      "  3.9440000e+08 3.0000000e+07]\n",
      " [1.9950000e+03 1.0000000e+00 0.0000000e+00 ... 1.4252000e+01\n",
      "  2.6282194e+08 6.5000000e+07]\n",
      " [1.9950000e+03 0.0000000e+00 0.0000000e+00 ... 1.6951000e+01\n",
      "  7.1500000e+07 2.5000000e+07]\n",
      " ...\n",
      " [2.0170000e+03 0.0000000e+00 0.0000000e+00 ... 4.1310000e+00\n",
      "  0.0000000e+00 0.0000000e+00]\n",
      " [2.0180000e+03 0.0000000e+00 1.0000000e+00 ... 1.8096000e+01\n",
      "  0.0000000e+00 0.0000000e+00]\n",
      " [1.9910000e+03 0.0000000e+00 0.0000000e+00 ... 1.4000000e+00\n",
      "  0.0000000e+00 0.0000000e+00]]\n"
     ]
    }
   ],
   "source": [
    "print(X)"
   ]
  },
  {
   "cell_type": "code",
   "execution_count": 5,
   "id": "20eeb131",
   "metadata": {},
   "outputs": [
    {
     "name": "stdout",
     "output_type": "stream",
     "text": [
      "[3.92093023 3.43181818 3.25961538 ... 3.5        3.5        4.        ]\n"
     ]
    }
   ],
   "source": [
    "print(y)"
   ]
  },
  {
   "cell_type": "code",
   "execution_count": 6,
   "id": "b764bbb6",
   "metadata": {},
   "outputs": [
    {
     "name": "stdout",
     "output_type": "stream",
     "text": [
      "torch.float32\n",
      "torch.float32\n"
     ]
    }
   ],
   "source": [
    "X = torch.from_numpy(X).type(torch.float32)\n",
    "y = torch.from_numpy(y).type(torch.float32)\n",
    "print(X.dtype)\n",
    "print(y.dtype)"
   ]
  },
  {
   "cell_type": "code",
   "execution_count": 7,
   "id": "5b5427bb",
   "metadata": {},
   "outputs": [],
   "source": [
    "from sklearn.model_selection import train_test_split\n",
    "\n",
    "# Assuming that X is your feature matrix and y are your targets\n",
    "X_train, X_test, y_train, y_test = train_test_split(X, y, test_size=0.1)"
   ]
  },
  {
   "cell_type": "code",
   "execution_count": 8,
   "id": "c2e83b7f",
   "metadata": {},
   "outputs": [],
   "source": [
    "# Feature Scaling\n",
    "from sklearn.preprocessing import StandardScaler\n",
    "sc = StandardScaler()\n",
    "\n",
    "X_train = torch.from_numpy(sc.fit_transform(X_train)).type(torch.float32)\n",
    "X_test = torch.from_numpy(sc.transform(X_test)).type(torch.float32)"
   ]
  },
  {
   "cell_type": "code",
   "execution_count": 9,
   "id": "1d5444be",
   "metadata": {},
   "outputs": [
    {
     "name": "stdout",
     "output_type": "stream",
     "text": [
      "torch.float32\n",
      "torch.float32\n",
      "torch.float32 torch.Size([8750, 1])\n",
      "torch.float32 torch.Size([8750, 1])\n"
     ]
    }
   ],
   "source": [
    "print(X_train.dtype)\n",
    "print(X_test.dtype)\n",
    "y_train = y_train.unsqueeze(1)\n",
    "y_test = y_test.unsqueeze(1)\n",
    "print(y_train.dtype, y_train.shape)\n",
    "print(y_test.dtype, y_train.shape)"
   ]
  },
  {
   "cell_type": "code",
   "execution_count": 10,
   "id": "53e7361d",
   "metadata": {},
   "outputs": [],
   "source": [
    "# Define the model\n",
    "\n",
    "class MyRatingPredictionModel(nn.Module):\n",
    "    def __init__(self, input_size, output_size):\n",
    "        super(MyRatingPredictionModel, self).__init__()\n",
    "        self.linear1 = nn.Linear(input_size, 256)\n",
    "        self.linear2 = nn.Linear(256, 256)\n",
    "        self.linear3 = nn.Linear(256, output_size)\n",
    "        self.relu = nn.ReLU()\n",
    "        \n",
    "    def forward(self, x):\n",
    "        x = self.linear1(x)\n",
    "        x = self.relu(x)\n",
    "        x = self.linear2(x)\n",
    "        x = self.relu(x)\n",
    "        x = self.linear3(x)\n",
    "        return x"
   ]
  },
  {
   "cell_type": "code",
   "execution_count": 11,
   "id": "7267779c",
   "metadata": {},
   "outputs": [
    {
     "name": "stdout",
     "output_type": "stream",
     "text": [
      "27\n",
      "Epoch [1/100], Loss: 12.204316139221191\n",
      "Epoch [2/100], Loss: 2.5816025733947754\n",
      "Epoch [3/100], Loss: 6.524923324584961\n",
      "Epoch [4/100], Loss: 1.3022880554199219\n",
      "Epoch [5/100], Loss: 1.9649723768234253\n",
      "Epoch [6/100], Loss: 2.8281517028808594\n",
      "Epoch [7/100], Loss: 2.5217602252960205\n",
      "Epoch [8/100], Loss: 1.6766396760940552\n",
      "Epoch [9/100], Loss: 1.2220581769943237\n",
      "Epoch [10/100], Loss: 1.5516694784164429\n",
      "Epoch [11/100], Loss: 1.7162654399871826\n",
      "Epoch [12/100], Loss: 1.2081903219223022\n",
      "Epoch [13/100], Loss: 0.7312648296356201\n",
      "Epoch [14/100], Loss: 0.6970945596694946\n",
      "Epoch [15/100], Loss: 0.911310076713562\n",
      "Epoch [16/100], Loss: 1.0914512872695923\n",
      "Epoch [17/100], Loss: 1.1221897602081299\n",
      "Epoch [18/100], Loss: 1.0302703380584717\n",
      "Epoch [19/100], Loss: 0.9020541906356812\n",
      "Epoch [20/100], Loss: 0.8109169602394104\n",
      "Epoch [21/100], Loss: 0.7683389186859131\n",
      "Epoch [22/100], Loss: 0.732395350933075\n",
      "Epoch [23/100], Loss: 0.6757369637489319\n",
      "Epoch [24/100], Loss: 0.6268576383590698\n",
      "Epoch [25/100], Loss: 0.6274758577346802\n",
      "Epoch [26/100], Loss: 0.6737428903579712\n",
      "Epoch [27/100], Loss: 0.7198765873908997\n",
      "Epoch [28/100], Loss: 0.7267765998840332\n",
      "Epoch [29/100], Loss: 0.6951960921287537\n",
      "Epoch [30/100], Loss: 0.6565960645675659\n",
      "Epoch [31/100], Loss: 0.6363349556922913\n",
      "Epoch [32/100], Loss: 0.6280125379562378\n",
      "Epoch [33/100], Loss: 0.6107662320137024\n",
      "Epoch [34/100], Loss: 0.5849883556365967\n",
      "Epoch [35/100], Loss: 0.5712263584136963\n",
      "Epoch [36/100], Loss: 0.5789914131164551\n",
      "Epoch [37/100], Loss: 0.5949720740318298\n",
      "Epoch [38/100], Loss: 0.6005152463912964\n",
      "Epoch [39/100], Loss: 0.5909479856491089\n",
      "Epoch [40/100], Loss: 0.5762091279029846\n",
      "Epoch [41/100], Loss: 0.5665203332901001\n",
      "Epoch [42/100], Loss: 0.5613327026367188\n",
      "Epoch [43/100], Loss: 0.5546427965164185\n",
      "Epoch [44/100], Loss: 0.5470361709594727\n",
      "Epoch [45/100], Loss: 0.5449185371398926\n",
      "Epoch [46/100], Loss: 0.5494274497032166\n",
      "Epoch [47/100], Loss: 0.5537455081939697\n",
      "Epoch [48/100], Loss: 0.5521165132522583\n",
      "Epoch [49/100], Loss: 0.5463876128196716\n",
      "Epoch [50/100], Loss: 0.5417338013648987\n",
      "Epoch [51/100], Loss: 0.5391256809234619\n",
      "Epoch [52/100], Loss: 0.5358483195304871\n",
      "Epoch [53/100], Loss: 0.5318261981010437\n",
      "Epoch [54/100], Loss: 0.5302271842956543\n",
      "Epoch [55/100], Loss: 0.5318624377250671\n",
      "Epoch [56/100], Loss: 0.5335755944252014\n",
      "Epoch [57/100], Loss: 0.5327079892158508\n",
      "Epoch [58/100], Loss: 0.5300865769386292\n",
      "Epoch [59/100], Loss: 0.5276981592178345\n",
      "Epoch [60/100], Loss: 0.5256783366203308\n",
      "Epoch [61/100], Loss: 0.5233040452003479\n",
      "Epoch [62/100], Loss: 0.5213086605072021\n",
      "Epoch [63/100], Loss: 0.5209689140319824\n",
      "Epoch [64/100], Loss: 0.521791934967041\n",
      "Epoch [65/100], Loss: 0.5221113562583923\n",
      "Epoch [66/100], Loss: 0.5213764309883118\n",
      "Epoch [67/100], Loss: 0.520312488079071\n",
      "Epoch [68/100], Loss: 0.5192723870277405\n",
      "Epoch [69/100], Loss: 0.5179172158241272\n",
      "Epoch [70/100], Loss: 0.5164234638214111\n",
      "Epoch [71/100], Loss: 0.5155441164970398\n",
      "Epoch [72/100], Loss: 0.5153908729553223\n",
      "Epoch [73/100], Loss: 0.5152977705001831\n",
      "Epoch [74/100], Loss: 0.5148699879646301\n",
      "Epoch [75/100], Loss: 0.5143105387687683\n",
      "Epoch [76/100], Loss: 0.5137299299240112\n",
      "Epoch [77/100], Loss: 0.5129579305648804\n",
      "Epoch [78/100], Loss: 0.5120810270309448\n",
      "Epoch [79/100], Loss: 0.5114561915397644\n",
      "Epoch [80/100], Loss: 0.5111343264579773\n",
      "Epoch [81/100], Loss: 0.5108205080032349\n",
      "Epoch [82/100], Loss: 0.5103897452354431\n",
      "Epoch [83/100], Loss: 0.5099539756774902\n",
      "Epoch [84/100], Loss: 0.5095073580741882\n",
      "Epoch [85/100], Loss: 0.5089601278305054\n",
      "Epoch [86/100], Loss: 0.5083938837051392\n",
      "Epoch [87/100], Loss: 0.5079595446586609\n",
      "Epoch [88/100], Loss: 0.5076262354850769\n",
      "Epoch [89/100], Loss: 0.5072658658027649\n",
      "Epoch [90/100], Loss: 0.5068756937980652\n",
      "Epoch [91/100], Loss: 0.5065006613731384\n",
      "Epoch [92/100], Loss: 0.506105363368988\n",
      "Epoch [93/100], Loss: 0.5056731700897217\n",
      "Epoch [94/100], Loss: 0.505277693271637\n",
      "Epoch [95/100], Loss: 0.5049536228179932\n",
      "Epoch [96/100], Loss: 0.504639208316803\n",
      "Epoch [97/100], Loss: 0.5042971968650818\n",
      "Epoch [98/100], Loss: 0.5039528012275696\n",
      "Epoch [99/100], Loss: 0.5036059021949768\n",
      "Epoch [100/100], Loss: 0.5032414197921753\n"
     ]
    }
   ],
   "source": [
    "# Instantiate and training the model\n",
    "input_size = X.shape[1]\n",
    "print(input_size)\n",
    "model = MyRatingPredictionModel(input_size = input_size, output_size = 1)\n",
    "# Define a loss function\n",
    "criterion = nn.MSELoss()\n",
    "optimizer = optim.Adam(model.parameters(), lr=0.01)\n",
    "# Training Loop\n",
    "num_epochs = 100\n",
    "for epoch in range(num_epochs):\n",
    "    # Training loop\n",
    "    model.train()  # Set the model to training mode\n",
    "    \n",
    "    outputs = model(X_train)\n",
    "#     outputs = outputs.squeeze()\n",
    "    \n",
    "#     print(outputs.shape)\n",
    "#     print(y_train.shape)\n",
    "    loss = criterion(outputs, y_train)\n",
    "\n",
    "    # Backward pass and optimization\n",
    "    optimizer.zero_grad()\n",
    "    loss.backward()\n",
    "    optimizer.step()\n",
    "\n",
    "    print(f\"Epoch [{epoch+1}/{num_epochs}], Loss: {loss.item()}\")"
   ]
  },
  {
   "cell_type": "code",
   "execution_count": 12,
   "id": "8f43f433",
   "metadata": {},
   "outputs": [
    {
     "name": "stdout",
     "output_type": "stream",
     "text": [
      "Validation Loss: 0.5913404822349548\n"
     ]
    }
   ],
   "source": [
    " # Validation loop\n",
    "model.eval()  # Set the model to evaluation mode\n",
    "with torch.no_grad():  # Disable gradient calculation\n",
    "    total = 0\n",
    "    correct = 0\n",
    "\n",
    "    # Forward pass\n",
    "    outputs = model(X_test)\n",
    "\n",
    "    # Compute validation loss\n",
    "    val_loss = criterion(outputs, y_test)\n",
    "\n",
    "print(f'Validation Loss: {val_loss.item()}')"
   ]
  },
  {
   "cell_type": "code",
   "execution_count": 13,
   "id": "2a215a89",
   "metadata": {},
   "outputs": [],
   "source": [
    "def regression_accuracy(y_true, y_pred, tolerance=0.5):\n",
    "    return np.mean(np.abs(y_true - y_pred) <= tolerance)"
   ]
  },
  {
   "cell_type": "code",
   "execution_count": 14,
   "id": "587937d4",
   "metadata": {},
   "outputs": [
    {
     "name": "stdout",
     "output_type": "stream",
     "text": [
      "[[[1.        2.2813737]]\n",
      "\n",
      " [[3.1363637 3.1148193]]\n",
      "\n",
      " [[4.        3.5715854]]\n",
      "\n",
      " ...\n",
      "\n",
      " [[4.        2.8607743]]\n",
      "\n",
      " [[2.909091  2.7078369]]\n",
      "\n",
      " [[3.        3.503781 ]]]\n"
     ]
    }
   ],
   "source": [
    "y_test_np = y_test.cpu().numpy()\n",
    "outputs_np = outputs.cpu().numpy()\n",
    "print(np.stack((y_test_np, outputs_np), axis=-1))"
   ]
  },
  {
   "cell_type": "code",
   "execution_count": 15,
   "id": "be438d04",
   "metadata": {},
   "outputs": [
    {
     "name": "stdout",
     "output_type": "stream",
     "text": [
      "accuracy:88.85181427001953% | root_mean_square:0.5913404822349548 | mean_absolute_error:0.5574091672897339 | r2_score: 0.28555644673417113\n"
     ]
    }
   ],
   "source": [
    "from sklearn.metrics import mean_absolute_error\n",
    "from sklearn.metrics import r2_score\n",
    "# R-squared (R²): This is a statistical measure that represents the proportion of the variance for a dependent variable that’s explained by an independent variable or variables in a regression model. \n",
    "r2 = r2_score(y_test_np, outputs_np)\n",
    "# Mean Squared Error (MSE): This is the average of the squared differences between the actual and predicted values. \n",
    "mse = np.mean((y_test_np - outputs_np)**2)\n",
    "rmse = np.sqrt(mse)\n",
    "# Mean Absolute Error (MAE): This is the average of the absolute differences between the actual and predicted values.\n",
    "mae = mean_absolute_error(y_test_np, outputs_np)\n",
    "# Find the maximum and minimum values in the dataset\n",
    "max_value = torch.max(y_test)\n",
    "min_value = torch.min(y_test)\n",
    "\n",
    "# Calculate the Range\n",
    "range = max_value - min_value\n",
    "# print(range)\n",
    "\n",
    "# Calculate the Accuracy\n",
    "accuracy = 1 - (mae / range)\n",
    "\n",
    "print(f\"accuracy:{accuracy*100}% | root_mean_square:{mse} | mean_absolute_error:{mae} | r2_score: {r2}\")"
   ]
  },
  {
   "cell_type": "code",
   "execution_count": null,
   "id": "37a2ca3a",
   "metadata": {},
   "outputs": [],
   "source": []
  }
 ],
 "metadata": {
  "kernelspec": {
   "display_name": "Python 3 (ipykernel)",
   "language": "python",
   "name": "python3"
  },
  "language_info": {
   "codemirror_mode": {
    "name": "ipython",
    "version": 3
   },
   "file_extension": ".py",
   "mimetype": "text/x-python",
   "name": "python",
   "nbconvert_exporter": "python",
   "pygments_lexer": "ipython3",
   "version": "3.11.3"
  }
 },
 "nbformat": 4,
 "nbformat_minor": 5
}
