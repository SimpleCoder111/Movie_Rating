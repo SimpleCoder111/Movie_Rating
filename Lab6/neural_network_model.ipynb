{
 "cells": [
  {
   "cell_type": "code",
   "execution_count": 1,
   "id": "2f8d7360",
   "metadata": {},
   "outputs": [],
   "source": [
    "# import libraray\n",
    "import torch\n",
    "from torch import nn, optim\n",
    "from torch.utils.data import Dataset, DataLoader\n",
    "from torch.utils.data import random_split\n",
    "import pandas as pd\n",
    "import numpy as np"
   ]
  },
  {
   "cell_type": "code",
   "execution_count": 2,
   "id": "5ae28f43",
   "metadata": {},
   "outputs": [],
   "source": [
    "# Define custom Dataset\n",
    "class MyDataset(Dataset):\n",
    "    def __init__(self, X, y):\n",
    "        self.X = X\n",
    "        self.y = y\n",
    "        \n",
    "    def __getitem__(self, index):\n",
    "        features = self.X[index]\n",
    "        target = self.y[index]\n",
    "        return features, target\n",
    "\n",
    "    def __len__(self):\n",
    "        return len(self.X)"
   ]
  },
  {
   "cell_type": "code",
   "execution_count": 3,
   "id": "5a171ccb",
   "metadata": {},
   "outputs": [],
   "source": [
    "# Read Dataset\n",
    "df = pd.read_csv(\"./dataframe.csv\")\n",
    "df = df.dropna(subset=['Year'])\n",
    "\n",
    "X = df.iloc[:, 3:-1].values\n",
    "y = df.iloc[:, -1].values"
   ]
  },
  {
   "cell_type": "code",
   "execution_count": 4,
   "id": "b764bbb6",
   "metadata": {},
   "outputs": [
    {
     "name": "stdout",
     "output_type": "stream",
     "text": [
      "torch.float32\n",
      "torch.float32\n"
     ]
    }
   ],
   "source": [
    "X = torch.from_numpy(X).type(torch.float32)\n",
    "y = torch.from_numpy(y).type(torch.float32)\n",
    "print(X.dtype)\n",
    "print(y.dtype)"
   ]
  },
  {
   "cell_type": "code",
   "execution_count": 5,
   "id": "5b5427bb",
   "metadata": {},
   "outputs": [],
   "source": [
    "from sklearn.model_selection import train_test_split\n",
    "\n",
    "# Assuming that X is your feature matrix and y are your targets\n",
    "X_train, X_test, y_train, y_test = train_test_split(X, y, test_size=0.1)"
   ]
  },
  {
   "cell_type": "code",
   "execution_count": 6,
   "id": "201149f6",
   "metadata": {},
   "outputs": [],
   "source": [
    "\n",
    "# # # Import Dataset from preprocessing\n",
    "# dataset = MyDataset(X, y)\n",
    "\n",
    "# # Splitting dataset\n",
    "# train_size = int(0.9 * len(dataset))\n",
    "# val_size = len(dataset) - train_size\n",
    "# train_dataset, val_dataset = random_split(dataset, [train_size, val_size])"
   ]
  },
  {
   "cell_type": "code",
   "execution_count": 7,
   "id": "75120df0",
   "metadata": {},
   "outputs": [],
   "source": [
    "# # Instantiate a Dataloader with dataset\n",
    "# # Create DataLoaders for the training and validation sets\n",
    "# train_dataloader = DataLoader(train_dataset, batch_size=32, shuffle=True)\n",
    "# val_dataloader = DataLoader(val_dataset, batch_size=32, shuffle=False)"
   ]
  },
  {
   "cell_type": "code",
   "execution_count": 8,
   "id": "53e7361d",
   "metadata": {},
   "outputs": [],
   "source": [
    "# Define the model\n",
    "\n",
    "class MyRatingPredictionModel(nn.Module):\n",
    "    def __init__(self, input_size, output_size):\n",
    "        super(MyRatingPredictionModel, self).__init__()\n",
    "        self.linear1 = nn.Linear(input_size, 256)\n",
    "        self.linear2 = nn.Linear(256, 256)\n",
    "        self.relu = nn.ReLU()\n",
    "        self.linear3 = nn.Linear(256, output_size)\n",
    "        \n",
    "    def forward(self, x):\n",
    "        x = self.linear1(x)\n",
    "        x = self.relu(x)\n",
    "        x = self.linear2(x)\n",
    "        x = self.relu(x)\n",
    "        x = self.linear3(x)\n",
    "        return x"
   ]
  },
  {
   "cell_type": "code",
   "execution_count": null,
   "id": "7267779c",
   "metadata": {},
   "outputs": [
    {
     "name": "stderr",
     "output_type": "stream",
     "text": [
      "D:\\Anaconda\\Lib\\site-packages\\torch\\nn\\modules\\loss.py:535: UserWarning: Using a target size (torch.Size([8757])) that is different to the input size (torch.Size([8757, 1])). This will likely lead to incorrect results due to broadcasting. Please ensure they have the same size.\n",
      "  return F.mse_loss(input, target, reduction=self.reduction)\n"
     ]
    },
    {
     "name": "stdout",
     "output_type": "stream",
     "text": [
      "Epoch [1/100], Loss: 12.148222923278809\n",
      "Validation Loss: 11.789937019348145, Validation Accuracy: 0.20554984583761562%\n"
     ]
    },
    {
     "name": "stderr",
     "output_type": "stream",
     "text": [
      "D:\\Anaconda\\Lib\\site-packages\\torch\\nn\\modules\\loss.py:535: UserWarning: Using a target size (torch.Size([973])) that is different to the input size (torch.Size([973, 1])). This will likely lead to incorrect results due to broadcasting. Please ensure they have the same size.\n",
      "  return F.mse_loss(input, target, reduction=self.reduction)\n"
     ]
    },
    {
     "name": "stdout",
     "output_type": "stream",
     "text": [
      "Epoch [2/100], Loss: 12.03026294708252\n",
      "Validation Loss: 11.675164222717285, Validation Accuracy: 0.20554984583761562%\n",
      "Epoch [3/100], Loss: 11.914223670959473\n",
      "Validation Loss: 11.56228256225586, Validation Accuracy: 0.20554984583761562%\n",
      "Epoch [4/100], Loss: 11.800084114074707\n",
      "Validation Loss: 11.451146125793457, Validation Accuracy: 0.20554984583761562%\n",
      "Epoch [5/100], Loss: 11.687705039978027\n",
      "Validation Loss: 11.341700553894043, Validation Accuracy: 0.20554984583761562%\n",
      "Epoch [6/100], Loss: 11.577016830444336\n",
      "Validation Loss: 11.233867645263672, Validation Accuracy: 0.20554984583761562%\n",
      "Epoch [7/100], Loss: 11.467951774597168\n",
      "Validation Loss: 11.127524375915527, Validation Accuracy: 0.20554984583761562%\n",
      "Epoch [8/100], Loss: 11.360376358032227\n",
      "Validation Loss: 11.02255630493164, Validation Accuracy: 0.20554984583761562%\n",
      "Epoch [9/100], Loss: 11.254180908203125\n",
      "Validation Loss: 10.918871879577637, Validation Accuracy: 0.20554984583761562%\n",
      "Epoch [10/100], Loss: 11.149279594421387\n",
      "Validation Loss: 10.816452026367188, Validation Accuracy: 0.20554984583761562%\n",
      "Epoch [11/100], Loss: 11.045658111572266\n",
      "Validation Loss: 10.715202331542969, Validation Accuracy: 0.20554984583761562%\n",
      "Epoch [12/100], Loss: 10.943222045898438\n",
      "Validation Loss: 10.61504077911377, Validation Accuracy: 0.20554984583761562%\n",
      "Epoch [13/100], Loss: 10.841890335083008\n",
      "Validation Loss: 10.51589584350586, Validation Accuracy: 0.20554984583761562%\n",
      "Epoch [14/100], Loss: 10.741576194763184\n",
      "Validation Loss: 10.417764663696289, Validation Accuracy: 0.20554984583761562%\n",
      "Epoch [15/100], Loss: 10.642277717590332\n",
      "Validation Loss: 10.320597648620605, Validation Accuracy: 0.20554984583761562%\n",
      "Epoch [16/100], Loss: 10.543951988220215\n",
      "Validation Loss: 10.224325180053711, Validation Accuracy: 0.20554984583761562%\n",
      "Epoch [17/100], Loss: 10.446524620056152\n",
      "Validation Loss: 10.128885269165039, Validation Accuracy: 0.20554984583761562%\n",
      "Epoch [18/100], Loss: 10.349935531616211\n",
      "Validation Loss: 10.034257888793945, Validation Accuracy: 0.20554984583761562%\n",
      "Epoch [19/100], Loss: 10.254168510437012\n",
      "Validation Loss: 9.940345764160156, Validation Accuracy: 0.20554984583761562%\n",
      "Epoch [20/100], Loss: 10.159112930297852\n",
      "Validation Loss: 9.847052574157715, Validation Accuracy: 0.20554984583761562%\n",
      "Epoch [21/100], Loss: 10.064682006835938\n",
      "Validation Loss: 9.754351615905762, Validation Accuracy: 0.20554984583761562%\n",
      "Epoch [22/100], Loss: 9.970842361450195\n",
      "Validation Loss: 9.662259101867676, Validation Accuracy: 0.20554984583761562%\n",
      "Epoch [23/100], Loss: 9.877614974975586\n",
      "Validation Loss: 9.570690155029297, Validation Accuracy: 0.20554984583761562%\n",
      "Epoch [24/100], Loss: 9.784913063049316\n",
      "Validation Loss: 9.479670524597168, Validation Accuracy: 0.20554984583761562%\n",
      "Epoch [25/100], Loss: 9.692757606506348\n",
      "Validation Loss: 9.389168739318848, Validation Accuracy: 0.20554984583761562%\n",
      "Epoch [26/100], Loss: 9.601117134094238\n",
      "Validation Loss: 9.299134254455566, Validation Accuracy: 0.20554984583761562%\n",
      "Epoch [27/100], Loss: 9.5099458694458\n",
      "Validation Loss: 9.209528923034668, Validation Accuracy: 0.20554984583761562%\n",
      "Epoch [28/100], Loss: 9.419195175170898\n",
      "Validation Loss: 9.12028694152832, Validation Accuracy: 0.20554984583761562%\n",
      "Epoch [29/100], Loss: 9.328808784484863\n",
      "Validation Loss: 9.03131103515625, Validation Accuracy: 0.20554984583761562%\n",
      "Epoch [30/100], Loss: 9.23869514465332\n",
      "Validation Loss: 8.942697525024414, Validation Accuracy: 0.20554984583761562%\n",
      "Epoch [31/100], Loss: 9.148927688598633\n",
      "Validation Loss: 8.854394912719727, Validation Accuracy: 0.20554984583761562%\n",
      "Epoch [32/100], Loss: 9.059463500976562\n",
      "Validation Loss: 8.766359329223633, Validation Accuracy: 0.20554984583761562%\n",
      "Epoch [33/100], Loss: 8.970258712768555\n",
      "Validation Loss: 8.678580284118652, Validation Accuracy: 0.20554984583761562%\n",
      "Epoch [34/100], Loss: 8.88129997253418\n",
      "Validation Loss: 8.590948104858398, Validation Accuracy: 0.20554984583761562%\n",
      "Epoch [35/100], Loss: 8.792479515075684\n",
      "Validation Loss: 8.503392219543457, Validation Accuracy: 0.20554984583761562%\n",
      "Epoch [36/100], Loss: 8.703729629516602\n",
      "Validation Loss: 8.415999412536621, Validation Accuracy: 0.20554984583761562%\n",
      "Epoch [37/100], Loss: 8.61513614654541\n",
      "Validation Loss: 8.32883071899414, Validation Accuracy: 0.20554984583761562%\n",
      "Epoch [38/100], Loss: 8.526762962341309\n",
      "Validation Loss: 8.24185848236084, Validation Accuracy: 0.20554984583761562%\n",
      "Epoch [39/100], Loss: 8.438580513000488\n",
      "Validation Loss: 8.155078887939453, Validation Accuracy: 0.20554984583761562%\n",
      "Epoch [40/100], Loss: 8.350591659545898\n",
      "Validation Loss: 8.068476676940918, Validation Accuracy: 0.20554984583761562%\n",
      "Epoch [41/100], Loss: 8.262763977050781\n",
      "Validation Loss: 7.9820170402526855, Validation Accuracy: 0.20554984583761562%\n",
      "Epoch [42/100], Loss: 8.175067901611328\n",
      "Validation Loss: 7.89570426940918, Validation Accuracy: 0.20554984583761562%\n",
      "Epoch [43/100], Loss: 8.087510108947754\n",
      "Validation Loss: 7.809497833251953, Validation Accuracy: 0.20554984583761562%\n",
      "Epoch [44/100], Loss: 8.000049591064453\n",
      "Validation Loss: 7.723414897918701, Validation Accuracy: 0.20554984583761562%\n",
      "Epoch [45/100], Loss: 7.912712574005127\n",
      "Validation Loss: 7.637454986572266, Validation Accuracy: 0.20554984583761562%\n",
      "Epoch [46/100], Loss: 7.825489521026611\n",
      "Validation Loss: 7.551541328430176, Validation Accuracy: 0.20554984583761562%\n",
      "Epoch [47/100], Loss: 7.738301753997803\n",
      "Validation Loss: 7.465746879577637, Validation Accuracy: 0.20554984583761562%\n",
      "Epoch [48/100], Loss: 7.651218891143799\n",
      "Validation Loss: 7.380044460296631, Validation Accuracy: 0.20554984583761562%\n",
      "Epoch [49/100], Loss: 7.564217567443848\n",
      "Validation Loss: 7.294421672821045, Validation Accuracy: 0.20554984583761562%\n",
      "Epoch [50/100], Loss: 7.477291107177734\n",
      "Validation Loss: 7.208868503570557, Validation Accuracy: 0.20554984583761562%\n",
      "Epoch [51/100], Loss: 7.390426158905029\n",
      "Validation Loss: 7.123411178588867, Validation Accuracy: 0.20554984583761562%\n",
      "Epoch [52/100], Loss: 7.303652763366699\n",
      "Validation Loss: 7.038075923919678, Validation Accuracy: 0.20554984583761562%\n",
      "Epoch [53/100], Loss: 7.216994762420654\n",
      "Validation Loss: 6.952795028686523, Validation Accuracy: 0.20554984583761562%\n",
      "Epoch [54/100], Loss: 7.130380153656006\n",
      "Validation Loss: 6.867595672607422, Validation Accuracy: 0.20554984583761562%\n",
      "Epoch [55/100], Loss: 7.043838977813721\n",
      "Validation Loss: 6.782468318939209, Validation Accuracy: 0.20554984583761562%\n",
      "Epoch [56/100], Loss: 6.957365036010742\n",
      "Validation Loss: 6.697424411773682, Validation Accuracy: 0.20554984583761562%\n",
      "Epoch [57/100], Loss: 6.8709635734558105\n",
      "Validation Loss: 6.612458229064941, Validation Accuracy: 0.20554984583761562%\n",
      "Epoch [58/100], Loss: 6.7846269607543945\n",
      "Validation Loss: 6.52758264541626, Validation Accuracy: 0.20554984583761562%\n",
      "Epoch [59/100], Loss: 6.698376655578613\n",
      "Validation Loss: 6.442800998687744, Validation Accuracy: 0.20554984583761562%\n",
      "Epoch [60/100], Loss: 6.612209796905518\n",
      "Validation Loss: 6.358109474182129, Validation Accuracy: 0.20554984583761562%\n",
      "Epoch [61/100], Loss: 6.526123046875\n",
      "Validation Loss: 6.273562908172607, Validation Accuracy: 0.20554984583761562%\n",
      "Epoch [62/100], Loss: 6.44017219543457\n",
      "Validation Loss: 6.189135551452637, Validation Accuracy: 0.20554984583761562%\n",
      "Epoch [63/100], Loss: 6.3543291091918945\n",
      "Validation Loss: 6.1048126220703125, Validation Accuracy: 0.20554984583761562%\n",
      "Epoch [64/100], Loss: 6.268576622009277\n",
      "Validation Loss: 6.020618438720703, Validation Accuracy: 0.20554984583761562%\n",
      "Epoch [65/100], Loss: 6.182938098907471\n",
      "Validation Loss: 5.936556339263916, Validation Accuracy: 0.20554984583761562%\n",
      "Epoch [66/100], Loss: 6.097424507141113\n",
      "Validation Loss: 5.85267448425293, Validation Accuracy: 0.20554984583761562%\n",
      "Epoch [67/100], Loss: 6.0120744705200195\n",
      "Validation Loss: 5.768992900848389, Validation Accuracy: 0.20554984583761562%\n",
      "Epoch [68/100], Loss: 5.926918029785156\n",
      "Validation Loss: 5.685527324676514, Validation Accuracy: 0.20554984583761562%\n",
      "Epoch [69/100], Loss: 5.8419718742370605\n",
      "Validation Loss: 5.602261543273926, Validation Accuracy: 0.20554984583761562%\n",
      "Epoch [70/100], Loss: 5.75722074508667\n",
      "Validation Loss: 5.519235610961914, Validation Accuracy: 0.20554984583761562%\n",
      "Epoch [71/100], Loss: 5.672703742980957\n",
      "Validation Loss: 5.4364705085754395, Validation Accuracy: 0.20554984583761562%\n"
     ]
    },
    {
     "name": "stdout",
     "output_type": "stream",
     "text": [
      "Epoch [72/100], Loss: 5.588432788848877\n",
      "Validation Loss: 5.353982448577881, Validation Accuracy: 0.20554984583761562%\n",
      "Epoch [73/100], Loss: 5.504433631896973\n",
      "Validation Loss: 5.271790981292725, Validation Accuracy: 0.20554984583761562%\n",
      "Epoch [74/100], Loss: 5.420723915100098\n",
      "Validation Loss: 5.189908027648926, Validation Accuracy: 0.20554984583761562%\n",
      "Epoch [75/100], Loss: 5.337319850921631\n",
      "Validation Loss: 5.108361721038818, Validation Accuracy: 0.20554984583761562%\n"
     ]
    }
   ],
   "source": [
    "# Instantiate and training the model\n",
    "model = MyRatingPredictionModel(input_size = 20, output_size = 1)\n",
    "# Define a loss function\n",
    "criterion = nn.MSELoss()\n",
    "optimizer = optim.SGD(model.parameters(), lr=0.001)\n",
    "# Training Loop\n",
    "num_epochs = 100\n",
    "for epoch in range(num_epochs):\n",
    "    # Training loop\n",
    "    model.train()  # Set the model to training mode\n",
    "    \n",
    "    outputs = model(X_train)\n",
    "    loss = criterion(outputs, y_train)\n",
    "\n",
    "    # Backward pass and optimization\n",
    "    optimizer.zero_grad()\n",
    "    loss.backward()\n",
    "    optimizer.step()\n",
    "\n",
    "    print(f\"Epoch [{epoch+1}/{num_epochs}], Loss: {loss.item()}\")\n",
    "\n",
    "    # Validation loop\n",
    "    model.eval()  # Set the model to evaluation mode\n",
    "    with torch.no_grad():  # Disable gradient calculation\n",
    "        total = 0\n",
    "        correct = 0\n",
    "       \n",
    "        # Forward pass\n",
    "        outputs = model(X_test)\n",
    "\n",
    "        # Compute validation loss\n",
    "        val_loss = criterion(outputs, y_test)\n",
    "\n",
    "        # Compute validation accuracy\n",
    "        _, predicted = torch.max(outputs.data, 1)\n",
    "        total += y_test.size(0)\n",
    "        correct += (predicted == y_test).sum().item()\n",
    "\n",
    "    print(f'Validation Loss: {val_loss.item()}, Validation Accuracy: {100 * correct / total}%')"
   ]
  },
  {
   "cell_type": "code",
   "execution_count": 10,
   "id": "be438d04",
   "metadata": {},
   "outputs": [
    {
     "name": "stdout",
     "output_type": "stream",
     "text": [
      "MAE Score : 3.220695384604835\n"
     ]
    }
   ],
   "source": [
    "from sklearn.metrics import mean_absolute_error\n",
    "mae = mean_absolute_error(y_test, predicted)\n",
    "print(f\"MAE Score : {mae}\")"
   ]
  },
  {
   "cell_type": "code",
   "execution_count": null,
   "id": "a4ddea1b",
   "metadata": {},
   "outputs": [],
   "source": []
  }
 ],
 "metadata": {
  "kernelspec": {
   "display_name": "Python 3 (ipykernel)",
   "language": "python",
   "name": "python3"
  },
  "language_info": {
   "codemirror_mode": {
    "name": "ipython",
    "version": 3
   },
   "file_extension": ".py",
   "mimetype": "text/x-python",
   "name": "python",
   "nbconvert_exporter": "python",
   "pygments_lexer": "ipython3",
   "version": "3.11.3"
  }
 },
 "nbformat": 4,
 "nbformat_minor": 5
}
